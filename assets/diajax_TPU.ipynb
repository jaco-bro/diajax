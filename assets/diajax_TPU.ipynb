{
  "nbformat": 4,
  "nbformat_minor": 0,
  "metadata": {
    "colab": {
      "provenance": []
    },
    "kernelspec": {
      "name": "python3",
      "display_name": "Python 3"
    },
    "language_info": {
      "name": "python"
    }
  },
  "cells": [
    {
      "cell_type": "code",
      "execution_count": null,
      "metadata": {
        "id": "psCgVOT_Ia2R"
      },
      "outputs": [],
      "source": [
        "!pip install -q diajax[tpu]==0.0.6\n",
        "#!dia --scan-batch-size=200 --max_tokens=800 --use-scan\n",
        "\n",
        "import diajax\n",
        "model = diajax.load()"
      ]
    },
    {
      "cell_type": "code",
      "source": [
        "output = diajax.generate(model, \"[S1] Dear Jacks, to generate audio from text from any machine. [S2] Any machine? (laughs) How? [S1] With flacks and an axe. (coughs)\", use_scan=True, scan_batch_size=100, max_tokens=1000)\n",
        "diajax.save(output)"
      ],
      "metadata": {
        "id": "rxiFmNQ7IpCu"
      },
      "execution_count": null,
      "outputs": []
    },
    {
      "cell_type": "code",
      "source": [
        "from IPython.display import Audio\n",
        "Audio('output.mp3')"
      ],
      "metadata": {
        "id": "I9yhO3EaIr9L"
      },
      "execution_count": null,
      "outputs": []
    }
  ]
}