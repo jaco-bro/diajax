{
  "cells": [
    {
      "cell_type": "code",
      "execution_count": null,
      "metadata": {
        "id": "psCgVOT_Ia2R"
      },
      "outputs": [],
      "source": [
        "!pip install -U diajax[tpu]\n",
        "#!dia --scan-batch-size=200 --max_tokens=800 --use-scan\n",
        "\n",
        "import diajax\n",
        "model = diajax.load()"
      ]
    },
    {
      "cell_type": "code",
      "execution_count": null,
      "metadata": {
        "id": "rxiFmNQ7IpCu"
      },
      "outputs": [],
      "source": [
        "output = diajax.generate(model, \"[S1] Dear Jacks, to generate audio from text from any machine. [S2] Any machine? (laughs) How? [S1] With flacks and an axe. (coughs)\", use_scan=True, scan_batch_size=100, max_tokens=1000)\n",
        "diajax.save(output)"
      ]
    },
    {
      "cell_type": "code",
      "execution_count": null,
      "metadata": {
        "id": "I9yhO3EaIr9L"
      },
      "outputs": [],
      "source": [
        "from IPython.display import Audio\n",
        "Audio('output.mp3')"
      ]
    }
  ],
  "metadata": {
    "colab": {
      "provenance": []
    },
    "kernelspec": {
      "display_name": "Python 3",
      "name": "python3"
    },
    "language_info": {
      "name": "python"
    }
  },
  "nbformat": 4,
  "nbformat_minor": 0
}
